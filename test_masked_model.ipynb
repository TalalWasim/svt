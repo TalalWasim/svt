{
 "cells": [
  {
   "cell_type": "code",
   "execution_count": 1,
   "id": "e8bb9fd9-914f-428e-be72-18d2742729c0",
   "metadata": {},
   "outputs": [],
   "source": [
    "from models import get_masked_vit_base_patch16_224\n",
    "from models import get_masked_vit_base_patch16_224_no_decoder\n",
    "from utils.parser import parse_args, load_config\n",
    "from torch.utils.data import default_collate\n",
    "\n",
    "import torch\n",
    "import sys\n",
    "import argparse\n",
    "import numpy as np\n",
    "\n",
    "device = torch.device('cuda:0' if torch.cuda.is_available() else 'cpu')"
   ]
  },
  {
   "cell_type": "code",
   "execution_count": 2,
   "id": "1cd4244a-2d21-498e-81fb-2a26f0d6c2cc",
   "metadata": {},
   "outputs": [],
   "source": [
    "def parse_args():\n",
    "    \"\"\"\n",
    "    Parse the following arguments for a default parser for PySlowFast users.\n",
    "    Args:\n",
    "        shard_id (int): shard id for the current machine. Starts from 0 to\n",
    "            num_shards - 1. If single machine is used, then set shard id to 0.\n",
    "        num_shards (int): number of shards using by the job.\n",
    "        init_method (str): initialization method to launch the job with multiple\n",
    "            devices. Options includes TCP or shared file-system for\n",
    "            initialization. details can be find in\n",
    "            https://pytorch.org/docs/stable/distributed.html#tcp-initialization\n",
    "        cfg (str): path to the config file.\n",
    "        opts (argument): provide addtional options from the command line, it\n",
    "            overwrites the config loaded from file.\n",
    "    \"\"\"\n",
    "    parser = argparse.ArgumentParser(\n",
    "        description=\"Provide SlowFast video training and testing pipeline.\"\n",
    "    )\n",
    "    parser.add_argument(\n",
    "        \"--shard_id\",\n",
    "        help=\"The shard id of current node, Starts from 0 to num_shards - 1\",\n",
    "        default=0,\n",
    "        type=int,\n",
    "    )\n",
    "    parser.add_argument(\n",
    "        \"--num_shards\",\n",
    "        help=\"Number of shards using by the job\",\n",
    "        default=1,\n",
    "        type=int,\n",
    "    )\n",
    "    parser.add_argument(\n",
    "        \"--init_method\",\n",
    "        help=\"Initialization method, includes TCP or shared file-system\",\n",
    "        default=\"tcp://localhost:9999\",\n",
    "        type=str,\n",
    "    )\n",
    "    parser.add_argument(\n",
    "        \"--cfg\",\n",
    "        dest=\"cfg_file\",\n",
    "        help=\"Path to the config file\",\n",
    "        default=\"configs/Kinetics/SLOWFAST_4x16_R50.yaml\",\n",
    "        type=str,\n",
    "    )\n",
    "    parser.add_argument(\n",
    "        \"opts\",\n",
    "        help=\"See slowfast/config/defaults.py for all options\",\n",
    "        default=None,\n",
    "        nargs=argparse.REMAINDER,\n",
    "    )\n",
    "    if len(sys.argv) == 1:\n",
    "        parser.print_help()\n",
    "    return parser.parse_args([])"
   ]
  },
  {
   "cell_type": "code",
   "execution_count": 3,
   "id": "d7741f6b-4402-44ed-bb69-5a4dc2c088af",
   "metadata": {},
   "outputs": [],
   "source": [
    "cfg = './models/configs/Kinetics/TimeSformer_divST_8x32_224.yaml'\n",
    "opt = parse_args()\n",
    "opt.cfg_file = cfg\n",
    "config = load_config(opt)\n",
    "config.TIMESFORMER.PRETRAINED_MODEL = './../pretrained/enc_mae_dec_vmae.pth'"
   ]
  },
  {
   "cell_type": "code",
   "execution_count": 4,
   "id": "e4c5cb3b-0e87-4113-ab18-6d991434bdb2",
   "metadata": {},
   "outputs": [],
   "source": [
    "model = get_masked_vit_base_patch16_224(cfg=config, no_head=True, no_mask=False)\n",
    "model.to(device);"
   ]
  },
  {
   "cell_type": "code",
   "execution_count": 8,
   "id": "c27a4b07-2558-4d9b-81f4-75df66cdf97c",
   "metadata": {},
   "outputs": [],
   "source": [
    "B = 2\n",
    "C = 768\n",
    "num_tokens = 1568\n",
    "img_size = 224\n",
    "patch_size = 16\n",
    "num_patches = img_size//patch_size\n",
    "frames = 8\n",
    "\n",
    "batch = []\n",
    "for i in range(B):\n",
    "    batch.append(torch.randn(3,1,96,96))\n",
    "\n",
    "batch = default_collate(batch)\n",
    "video = batch"
   ]
  },
  {
   "cell_type": "code",
   "execution_count": 9,
   "id": "810c2a4e-0f63-4702-9763-e2b6831d00d3",
   "metadata": {},
   "outputs": [
    {
     "ename": "RuntimeError",
     "evalue": "shape '[1, 384, 1, 1]' is invalid for input of size 75264",
     "output_type": "error",
     "traceback": [
      "\u001b[0;31m---------------------------------------------------------------------------\u001b[0m",
      "\u001b[0;31mRuntimeError\u001b[0m                              Traceback (most recent call last)",
      "Input \u001b[0;32mIn [9]\u001b[0m, in \u001b[0;36m<cell line: 2>\u001b[0;34m()\u001b[0m\n\u001b[1;32m      1\u001b[0m video \u001b[38;5;241m=\u001b[39m video\u001b[38;5;241m.\u001b[39mto(device)\n\u001b[0;32m----> 2\u001b[0m out \u001b[38;5;241m=\u001b[39m \u001b[43mmodel\u001b[49m\u001b[43m(\u001b[49m\u001b[43mvideo\u001b[49m\u001b[43m,\u001b[49m\u001b[43m \u001b[49m\u001b[43mmask\u001b[49m\u001b[38;5;241;43m=\u001b[39;49m\u001b[38;5;28;43;01mTrue\u001b[39;49;00m\u001b[43m)\u001b[49m\n",
      "File \u001b[0;32m~/anaconda3/envs/svt/lib/python3.8/site-packages/torch/nn/modules/module.py:1110\u001b[0m, in \u001b[0;36mModule._call_impl\u001b[0;34m(self, *input, **kwargs)\u001b[0m\n\u001b[1;32m   1106\u001b[0m \u001b[38;5;66;03m# If we don't have any hooks, we want to skip the rest of the logic in\u001b[39;00m\n\u001b[1;32m   1107\u001b[0m \u001b[38;5;66;03m# this function, and just call forward.\u001b[39;00m\n\u001b[1;32m   1108\u001b[0m \u001b[38;5;28;01mif\u001b[39;00m \u001b[38;5;129;01mnot\u001b[39;00m (\u001b[38;5;28mself\u001b[39m\u001b[38;5;241m.\u001b[39m_backward_hooks \u001b[38;5;129;01mor\u001b[39;00m \u001b[38;5;28mself\u001b[39m\u001b[38;5;241m.\u001b[39m_forward_hooks \u001b[38;5;129;01mor\u001b[39;00m \u001b[38;5;28mself\u001b[39m\u001b[38;5;241m.\u001b[39m_forward_pre_hooks \u001b[38;5;129;01mor\u001b[39;00m _global_backward_hooks\n\u001b[1;32m   1109\u001b[0m         \u001b[38;5;129;01mor\u001b[39;00m _global_forward_hooks \u001b[38;5;129;01mor\u001b[39;00m _global_forward_pre_hooks):\n\u001b[0;32m-> 1110\u001b[0m     \u001b[38;5;28;01mreturn\u001b[39;00m \u001b[43mforward_call\u001b[49m\u001b[43m(\u001b[49m\u001b[38;5;241;43m*\u001b[39;49m\u001b[38;5;28;43minput\u001b[39;49m\u001b[43m,\u001b[49m\u001b[43m \u001b[49m\u001b[38;5;241;43m*\u001b[39;49m\u001b[38;5;241;43m*\u001b[39;49m\u001b[43mkwargs\u001b[49m\u001b[43m)\u001b[49m\n\u001b[1;32m   1111\u001b[0m \u001b[38;5;66;03m# Do not call functions when jit is used\u001b[39;00m\n\u001b[1;32m   1112\u001b[0m full_backward_hooks, non_full_backward_hooks \u001b[38;5;241m=\u001b[39m [], []\n",
      "File \u001b[0;32m/nfs/projects/mbzuai/talal/ESVT/svt/models/timesformer_masked.py:667\u001b[0m, in \u001b[0;36mMaskedVisionTransformer.forward\u001b[0;34m(self, x, mask)\u001b[0m\n\u001b[1;32m    665\u001b[0m x_cls, x_vis, x_mask_lab, masks, W, H, T \u001b[38;5;241m=\u001b[39m \u001b[38;5;28mself\u001b[39m\u001b[38;5;241m.\u001b[39mencoder(x, mask\u001b[38;5;241m=\u001b[39mmask)\n\u001b[1;32m    666\u001b[0m x_vis \u001b[38;5;241m=\u001b[39m \u001b[38;5;28mself\u001b[39m\u001b[38;5;241m.\u001b[39mencoder_to_decoder(x_vis)\n\u001b[0;32m--> 667\u001b[0m x_mask_pred \u001b[38;5;241m=\u001b[39m \u001b[38;5;28;43mself\u001b[39;49m\u001b[38;5;241;43m.\u001b[39;49m\u001b[43mdecoder\u001b[49m\u001b[43m(\u001b[49m\u001b[43mx_vis\u001b[49m\u001b[43m,\u001b[49m\u001b[43m \u001b[49m\u001b[43mmasks\u001b[49m\u001b[43m,\u001b[49m\u001b[43m \u001b[49m\u001b[43mW\u001b[49m\u001b[43m,\u001b[49m\u001b[43m \u001b[49m\u001b[43mH\u001b[49m\u001b[43m,\u001b[49m\u001b[43m \u001b[49m\u001b[43mT\u001b[49m\u001b[43m,\u001b[49m\u001b[43m \u001b[49m\u001b[43mget_masked\u001b[49m\u001b[38;5;241;43m=\u001b[39;49m\u001b[38;5;28;43;01mTrue\u001b[39;49;00m\u001b[43m)\u001b[49m\n\u001b[1;32m    669\u001b[0m \u001b[38;5;28;01mreturn\u001b[39;00m (x_cls, x_mask_pred, x_mask_lab)\n",
      "File \u001b[0;32m~/anaconda3/envs/svt/lib/python3.8/site-packages/torch/nn/modules/module.py:1110\u001b[0m, in \u001b[0;36mModule._call_impl\u001b[0;34m(self, *input, **kwargs)\u001b[0m\n\u001b[1;32m   1106\u001b[0m \u001b[38;5;66;03m# If we don't have any hooks, we want to skip the rest of the logic in\u001b[39;00m\n\u001b[1;32m   1107\u001b[0m \u001b[38;5;66;03m# this function, and just call forward.\u001b[39;00m\n\u001b[1;32m   1108\u001b[0m \u001b[38;5;28;01mif\u001b[39;00m \u001b[38;5;129;01mnot\u001b[39;00m (\u001b[38;5;28mself\u001b[39m\u001b[38;5;241m.\u001b[39m_backward_hooks \u001b[38;5;129;01mor\u001b[39;00m \u001b[38;5;28mself\u001b[39m\u001b[38;5;241m.\u001b[39m_forward_hooks \u001b[38;5;129;01mor\u001b[39;00m \u001b[38;5;28mself\u001b[39m\u001b[38;5;241m.\u001b[39m_forward_pre_hooks \u001b[38;5;129;01mor\u001b[39;00m _global_backward_hooks\n\u001b[1;32m   1109\u001b[0m         \u001b[38;5;129;01mor\u001b[39;00m _global_forward_hooks \u001b[38;5;129;01mor\u001b[39;00m _global_forward_pre_hooks):\n\u001b[0;32m-> 1110\u001b[0m     \u001b[38;5;28;01mreturn\u001b[39;00m \u001b[43mforward_call\u001b[49m\u001b[43m(\u001b[49m\u001b[38;5;241;43m*\u001b[39;49m\u001b[38;5;28;43minput\u001b[39;49m\u001b[43m,\u001b[49m\u001b[43m \u001b[49m\u001b[38;5;241;43m*\u001b[39;49m\u001b[38;5;241;43m*\u001b[39;49m\u001b[43mkwargs\u001b[49m\u001b[43m)\u001b[49m\n\u001b[1;32m   1111\u001b[0m \u001b[38;5;66;03m# Do not call functions when jit is used\u001b[39;00m\n\u001b[1;32m   1112\u001b[0m full_backward_hooks, non_full_backward_hooks \u001b[38;5;241m=\u001b[39m [], []\n",
      "File \u001b[0;32m/nfs/projects/mbzuai/talal/ESVT/svt/models/timesformer_masked.py:535\u001b[0m, in \u001b[0;36mMaskedVisionTransformerDecoder.forward\u001b[0;34m(self, x, masks, W, H, T, get_masked)\u001b[0m\n\u001b[1;32m    533\u001b[0m other_pos_embed \u001b[38;5;241m=\u001b[39m pos_embed\u001b[38;5;241m.\u001b[39munsqueeze(\u001b[38;5;241m0\u001b[39m)\u001b[38;5;241m.\u001b[39mtranspose(\u001b[38;5;241m1\u001b[39m, \u001b[38;5;241m2\u001b[39m)\n\u001b[1;32m    534\u001b[0m P \u001b[38;5;241m=\u001b[39m \u001b[38;5;28mint\u001b[39m(other_pos_embed\u001b[38;5;241m.\u001b[39msize(\u001b[38;5;241m2\u001b[39m) \u001b[38;5;241m*\u001b[39m\u001b[38;5;241m*\u001b[39m \u001b[38;5;241m0.5\u001b[39m)\n\u001b[0;32m--> 535\u001b[0m other_pos_embed \u001b[38;5;241m=\u001b[39m \u001b[43mother_pos_embed\u001b[49m\u001b[38;5;241;43m.\u001b[39;49m\u001b[43mreshape\u001b[49m\u001b[43m(\u001b[49m\u001b[38;5;241;43m1\u001b[39;49m\u001b[43m,\u001b[49m\u001b[43m \u001b[49m\u001b[43mx\u001b[49m\u001b[38;5;241;43m.\u001b[39;49m\u001b[43msize\u001b[49m\u001b[43m(\u001b[49m\u001b[38;5;241;43m2\u001b[39;49m\u001b[43m)\u001b[49m\u001b[43m,\u001b[49m\u001b[43m \u001b[49m\u001b[43mP\u001b[49m\u001b[43m,\u001b[49m\u001b[43m \u001b[49m\u001b[43mP\u001b[49m\u001b[43m)\u001b[49m\n\u001b[1;32m    536\u001b[0m new_pos_embed \u001b[38;5;241m=\u001b[39m F\u001b[38;5;241m.\u001b[39minterpolate(other_pos_embed, size\u001b[38;5;241m=\u001b[39m(H, W), mode\u001b[38;5;241m=\u001b[39m\u001b[38;5;124m'\u001b[39m\u001b[38;5;124mnearest\u001b[39m\u001b[38;5;124m'\u001b[39m)\n\u001b[1;32m    537\u001b[0m new_pos_embed \u001b[38;5;241m=\u001b[39m new_pos_embed\u001b[38;5;241m.\u001b[39mflatten(\u001b[38;5;241m2\u001b[39m)\n",
      "\u001b[0;31mRuntimeError\u001b[0m: shape '[1, 384, 1, 1]' is invalid for input of size 75264"
     ]
    }
   ],
   "source": [
    "video = video.to(device)\n",
    "out = model(video, mask=True)"
   ]
  },
  {
   "cell_type": "code",
   "execution_count": null,
   "id": "6bcd9687-b238-44a3-81d2-7ae2c14901fa",
   "metadata": {},
   "outputs": [],
   "source": [
    "if isinstance(out, tuple) == True:\n",
    "    print('Tuple of length:', len(out))\n",
    "    for i in range(len(out)):\n",
    "        print(out[i].shape)\n",
    "else:\n",
    "    print('returns tensor of shape:', out.shape)"
   ]
  },
  {
   "cell_type": "code",
   "execution_count": null,
   "id": "e263a76c-4a58-48ba-9ca8-7518fd95bbbf",
   "metadata": {},
   "outputs": [],
   "source": []
  }
 ],
 "metadata": {
  "kernelspec": {
   "display_name": "Python 3 (ipykernel)",
   "language": "python",
   "name": "python3"
  },
  "language_info": {
   "codemirror_mode": {
    "name": "ipython",
    "version": 3
   },
   "file_extension": ".py",
   "mimetype": "text/x-python",
   "name": "python",
   "nbconvert_exporter": "python",
   "pygments_lexer": "ipython3",
   "version": "3.8.13"
  }
 },
 "nbformat": 4,
 "nbformat_minor": 5
}
